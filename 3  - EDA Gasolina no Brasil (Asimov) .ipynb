{
 "cells": [
  {
   "cell_type": "markdown",
   "id": "eb29fb7a-5c3a-46df-a5f9-627148c66351",
   "metadata": {},
   "source": [
    "## Exercícios"
   ]
  },
  {
   "cell_type": "markdown",
   "id": "ad2f7eba-5091-4fec-b113-487186883a09",
   "metadata": {},
   "source": [
    "Link para Dataset: https://www.kaggle.com/datasets/matheusfreitag/gas-prices-in-brazil\n",
    "\n",
    "Jessica, 28/06/2025"
   ]
  },
  {
   "cell_type": "code",
   "execution_count": 1,
   "id": "d0e9c6b9-3840-47a5-956f-9954b612c657",
   "metadata": {},
   "outputs": [],
   "source": [
    "import pandas as pd\n",
    "import datetime as dt"
   ]
  },
  {
   "cell_type": "markdown",
   "id": "76366baf-6608-4ad2-b14b-ff048e5adb90",
   "metadata": {},
   "source": [
    "## Neste projeto, trabalharemos com dois arquivos csvs separados, contendo informações sobre o preço da gasolina no Brasil. \n",
    "\n",
    "### 1. Carregue os conjuntos de dados \"gasolina_2000+.csv\" e \"gasolina_2010+.csv\" em dois DataFrames diferentes e combine-os em um único DataFrame."
   ]
  },
  {
   "cell_type": "code",
   "execution_count": 2,
   "id": "c7decfae-2c39-48fb-8412-6dd2e789f28e",
   "metadata": {},
   "outputs": [
    {
     "name": "stderr",
     "output_type": "stream",
     "text": [
      "/tmp/ipykernel_3504/1167438795.py:2: DtypeWarning: Columns (12,14,15,16,17,18) have mixed types. Specify dtype option on import or set low_memory=False.\n",
      "  df_2010 = pd.read_csv('Dados/gasolina_2010+.csv')\n"
     ]
    }
   ],
   "source": [
    "df_2000 = pd.read_csv('Dados/gasolina_2000+.csv')\n",
    "df_2010 = pd.read_csv('Dados/gasolina_2010+.csv')\n",
    "\n",
    "# Como os dois df têm as mesmas colunas e estão na ordem correta, um concat já é o suficiente\n",
    "df_bruto = pd.concat([df_2000, df_2010]).reset_index(drop=True)\n",
    "\n",
    "df = df_bruto.copy()"
   ]
  },
  {
   "cell_type": "markdown",
   "id": "6cd74f39-565b-47ea-9171-9679eb964b1c",
   "metadata": {},
   "source": [
    "### 2.Investigue as colunas e entenda o conjunto de dados usando o head() e info()"
   ]
  },
  {
   "cell_type": "markdown",
   "id": "f931145b",
   "metadata": {},
   "source": [
    "R.\n",
    "Essas colunas estão sendo lidas de forma como string sendo que são números:\n",
    "* DATA,\n",
    "* MARGEM MÉDIA REVENDA,\n",
    "* PREÇO MÉDIO DISTRIBUIÇÃO,\n",
    "* DESVIO PADRÃO DISTRIBUIÇÃO,\n",
    "* PREÇO MÍNIMO DISTRIBUIÇÃO,\n",
    "* PREÇO MÁXIMO DISTRIBUIÇÃO,\n",
    "* COEF DE VARIAÇÃO DISTRIBUIÇÃO"
   ]
  },
  {
   "cell_type": "code",
   "execution_count": 3,
   "id": "079e63b5-4836-4332-86ee-11c804543571",
   "metadata": {},
   "outputs": [
    {
     "name": "stdout",
     "output_type": "stream",
     "text": [
      "<class 'pandas.core.frame.DataFrame'>\n",
      "RangeIndex: 120823 entries, 0 to 120822\n",
      "Data columns (total 19 columns):\n",
      " #   Column                         Non-Null Count   Dtype  \n",
      "---  ------                         --------------   -----  \n",
      " 0   Unnamed: 0                     120823 non-null  int64  \n",
      " 1   DATA INICIAL                   120823 non-null  object \n",
      " 2   DATA FINAL                     120823 non-null  object \n",
      " 3   REGIÃO                         120823 non-null  object \n",
      " 4   ESTADO                         120823 non-null  object \n",
      " 5   PRODUTO                        120823 non-null  object \n",
      " 6   NÚMERO DE POSTOS PESQUISADOS   120823 non-null  int64  \n",
      " 7   UNIDADE DE MEDIDA              120823 non-null  object \n",
      " 8   PREÇO MÉDIO REVENDA            120823 non-null  float64\n",
      " 9   DESVIO PADRÃO REVENDA          120823 non-null  float64\n",
      " 10  PREÇO MÍNIMO REVENDA           120823 non-null  float64\n",
      " 11  PREÇO MÁXIMO REVENDA           120823 non-null  float64\n",
      " 12  MARGEM MÉDIA REVENDA           120823 non-null  object \n",
      " 13  COEF DE VARIAÇÃO REVENDA       120823 non-null  float64\n",
      " 14  PREÇO MÉDIO DISTRIBUIÇÃO       120823 non-null  object \n",
      " 15  DESVIO PADRÃO DISTRIBUIÇÃO     120823 non-null  object \n",
      " 16  PREÇO MÍNIMO DISTRIBUIÇÃO      120823 non-null  object \n",
      " 17  PREÇO MÁXIMO DISTRIBUIÇÃO      120823 non-null  object \n",
      " 18  COEF DE VARIAÇÃO DISTRIBUIÇÃO  120823 non-null  object \n",
      "dtypes: float64(5), int64(2), object(12)\n",
      "memory usage: 17.5+ MB\n"
     ]
    }
   ],
   "source": [
    "df.info()"
   ]
  },
  {
   "cell_type": "code",
   "execution_count": 4,
   "id": "295ed662",
   "metadata": {},
   "outputs": [
    {
     "data": {
      "text/html": [
       "<div>\n",
       "<style scoped>\n",
       "    .dataframe tbody tr th:only-of-type {\n",
       "        vertical-align: middle;\n",
       "    }\n",
       "\n",
       "    .dataframe tbody tr th {\n",
       "        vertical-align: top;\n",
       "    }\n",
       "\n",
       "    .dataframe thead th {\n",
       "        text-align: right;\n",
       "    }\n",
       "</style>\n",
       "<table border=\"1\" class=\"dataframe\">\n",
       "  <thead>\n",
       "    <tr style=\"text-align: right;\">\n",
       "      <th></th>\n",
       "      <th>Unnamed: 0</th>\n",
       "      <th>DATA INICIAL</th>\n",
       "      <th>DATA FINAL</th>\n",
       "      <th>REGIÃO</th>\n",
       "      <th>ESTADO</th>\n",
       "      <th>PRODUTO</th>\n",
       "      <th>NÚMERO DE POSTOS PESQUISADOS</th>\n",
       "      <th>UNIDADE DE MEDIDA</th>\n",
       "      <th>PREÇO MÉDIO REVENDA</th>\n",
       "      <th>DESVIO PADRÃO REVENDA</th>\n",
       "      <th>PREÇO MÍNIMO REVENDA</th>\n",
       "      <th>PREÇO MÁXIMO REVENDA</th>\n",
       "      <th>MARGEM MÉDIA REVENDA</th>\n",
       "      <th>COEF DE VARIAÇÃO REVENDA</th>\n",
       "      <th>PREÇO MÉDIO DISTRIBUIÇÃO</th>\n",
       "      <th>DESVIO PADRÃO DISTRIBUIÇÃO</th>\n",
       "      <th>PREÇO MÍNIMO DISTRIBUIÇÃO</th>\n",
       "      <th>PREÇO MÁXIMO DISTRIBUIÇÃO</th>\n",
       "      <th>COEF DE VARIAÇÃO DISTRIBUIÇÃO</th>\n",
       "    </tr>\n",
       "  </thead>\n",
       "  <tbody>\n",
       "    <tr>\n",
       "      <th>0</th>\n",
       "      <td>0</td>\n",
       "      <td>2004-05-09</td>\n",
       "      <td>2004-05-15</td>\n",
       "      <td>CENTRO OESTE</td>\n",
       "      <td>DISTRITO FEDERAL</td>\n",
       "      <td>ETANOL HIDRATADO</td>\n",
       "      <td>127</td>\n",
       "      <td>R$/l</td>\n",
       "      <td>1.288</td>\n",
       "      <td>0.016</td>\n",
       "      <td>1.19</td>\n",
       "      <td>1.350</td>\n",
       "      <td>0.463</td>\n",
       "      <td>0.012</td>\n",
       "      <td>0.825</td>\n",
       "      <td>0.11</td>\n",
       "      <td>0.4201</td>\n",
       "      <td>0.9666</td>\n",
       "      <td>0.133</td>\n",
       "    </tr>\n",
       "    <tr>\n",
       "      <th>1</th>\n",
       "      <td>1</td>\n",
       "      <td>2004-05-09</td>\n",
       "      <td>2004-05-15</td>\n",
       "      <td>CENTRO OESTE</td>\n",
       "      <td>GOIAS</td>\n",
       "      <td>ETANOL HIDRATADO</td>\n",
       "      <td>387</td>\n",
       "      <td>R$/l</td>\n",
       "      <td>1.162</td>\n",
       "      <td>0.114</td>\n",
       "      <td>0.89</td>\n",
       "      <td>1.449</td>\n",
       "      <td>0.399</td>\n",
       "      <td>0.098</td>\n",
       "      <td>0.763</td>\n",
       "      <td>0.088</td>\n",
       "      <td>0.5013</td>\n",
       "      <td>1.05</td>\n",
       "      <td>0.115</td>\n",
       "    </tr>\n",
       "    <tr>\n",
       "      <th>2</th>\n",
       "      <td>2</td>\n",
       "      <td>2004-05-09</td>\n",
       "      <td>2004-05-15</td>\n",
       "      <td>CENTRO OESTE</td>\n",
       "      <td>MATO GROSSO</td>\n",
       "      <td>ETANOL HIDRATADO</td>\n",
       "      <td>192</td>\n",
       "      <td>R$/l</td>\n",
       "      <td>1.389</td>\n",
       "      <td>0.097</td>\n",
       "      <td>1.18</td>\n",
       "      <td>1.760</td>\n",
       "      <td>0.419</td>\n",
       "      <td>0.070</td>\n",
       "      <td>0.97</td>\n",
       "      <td>0.095</td>\n",
       "      <td>0.5614</td>\n",
       "      <td>1.161</td>\n",
       "      <td>0.098</td>\n",
       "    </tr>\n",
       "  </tbody>\n",
       "</table>\n",
       "</div>"
      ],
      "text/plain": [
       "   Unnamed: 0 DATA INICIAL  DATA FINAL        REGIÃO            ESTADO  \\\n",
       "0           0   2004-05-09  2004-05-15  CENTRO OESTE  DISTRITO FEDERAL   \n",
       "1           1   2004-05-09  2004-05-15  CENTRO OESTE             GOIAS   \n",
       "2           2   2004-05-09  2004-05-15  CENTRO OESTE       MATO GROSSO   \n",
       "\n",
       "            PRODUTO  NÚMERO DE POSTOS PESQUISADOS UNIDADE DE MEDIDA  \\\n",
       "0  ETANOL HIDRATADO                           127              R$/l   \n",
       "1  ETANOL HIDRATADO                           387              R$/l   \n",
       "2  ETANOL HIDRATADO                           192              R$/l   \n",
       "\n",
       "   PREÇO MÉDIO REVENDA  DESVIO PADRÃO REVENDA  PREÇO MÍNIMO REVENDA  \\\n",
       "0                1.288                  0.016                  1.19   \n",
       "1                1.162                  0.114                  0.89   \n",
       "2                1.389                  0.097                  1.18   \n",
       "\n",
       "   PREÇO MÁXIMO REVENDA MARGEM MÉDIA REVENDA  COEF DE VARIAÇÃO REVENDA  \\\n",
       "0                 1.350                0.463                     0.012   \n",
       "1                 1.449                0.399                     0.098   \n",
       "2                 1.760                0.419                     0.070   \n",
       "\n",
       "  PREÇO MÉDIO DISTRIBUIÇÃO DESVIO PADRÃO DISTRIBUIÇÃO  \\\n",
       "0                    0.825                       0.11   \n",
       "1                    0.763                      0.088   \n",
       "2                     0.97                      0.095   \n",
       "\n",
       "  PREÇO MÍNIMO DISTRIBUIÇÃO PREÇO MÁXIMO DISTRIBUIÇÃO  \\\n",
       "0                    0.4201                    0.9666   \n",
       "1                    0.5013                      1.05   \n",
       "2                    0.5614                     1.161   \n",
       "\n",
       "  COEF DE VARIAÇÃO DISTRIBUIÇÃO  \n",
       "0                         0.133  \n",
       "1                         0.115  \n",
       "2                         0.098  "
      ]
     },
     "execution_count": 4,
     "metadata": {},
     "output_type": "execute_result"
    }
   ],
   "source": [
    "df.head(3)"
   ]
  },
  {
   "cell_type": "code",
   "execution_count": 5,
   "id": "c7852f5d",
   "metadata": {},
   "outputs": [],
   "source": [
    "# Remove a coluna\n",
    "df.drop('Unnamed: 0', axis=1, inplace=True)"
   ]
  },
  {
   "cell_type": "markdown",
   "id": "2bcb2d2f-1c32-4583-8981-ca5b6ed0e048",
   "metadata": {},
   "source": [
    "### 3. Selecione a terceira entrada da coluna DATA INICIAL e verifique seu tipo."
   ]
  },
  {
   "cell_type": "code",
   "execution_count": 6,
   "id": "c4399a8c-0ad3-4b6e-bcd8-d701438892fe",
   "metadata": {},
   "outputs": [
    {
     "name": "stdout",
     "output_type": "stream",
     "text": [
      "<class 'str'>\n",
      "<class 'pandas.core.series.Series'>\n",
      "<class 'pandas.core.frame.DataFrame'>\n"
     ]
    }
   ],
   "source": [
    "print(type(df.loc[3,'DATA INICIAL']))\n",
    "\n",
    "print(type(df.loc[3,['DATA INICIAL']]))\n",
    "\n",
    "print(type(df.loc[[3],['DATA INICIAL']]))"
   ]
  },
  {
   "cell_type": "markdown",
   "id": "7eda8c87-eef7-4b66-97ee-46629b214fc7",
   "metadata": {},
   "source": [
    "### 4. Você deve ter percebido que as colunas DATA INICIAL e DATA FINAL estão formatadas como string. Utilizando o método pd.to_datetime(), converta ambas colunas para Timestamp / Datetime."
   ]
  },
  {
   "cell_type": "code",
   "execution_count": 7,
   "id": "6813ae62-bdd0-4f73-8278-7fa0e0027f9c",
   "metadata": {},
   "outputs": [
    {
     "name": "stdout",
     "output_type": "stream",
     "text": [
      "<class 'str'>\n",
      "<class 'pandas._libs.tslibs.timestamps.Timestamp'>\n"
     ]
    }
   ],
   "source": [
    "print(type(df.loc[3,'DATA INICIAL']))\n",
    "\n",
    "df['DATA INICIAL'] = pd.to_datetime(df['DATA INICIAL'], format='%Y-%m-%d')\n",
    "df['DATA FINAL'] = pd.to_datetime(df['DATA FINAL'], format='%Y-%m-%d')\n",
    "\n",
    "print(type(df.loc[3,'DATA INICIAL']))"
   ]
  },
  {
   "cell_type": "markdown",
   "id": "2f9aaafa-f9a4-4f07-9bc6-86e5911c863c",
   "metadata": {},
   "source": [
    "### 5. Crie uma nova coluna para representar o ano e o mês(aaaa-mm), utilizando a coluna DATA FINAL como referência. "
   ]
  },
  {
   "cell_type": "code",
   "execution_count": 8,
   "id": "03f15a92-bae5-4256-add1-a7c97fe9f01d",
   "metadata": {},
   "outputs": [
    {
     "data": {
      "text/html": [
       "<div>\n",
       "<style scoped>\n",
       "    .dataframe tbody tr th:only-of-type {\n",
       "        vertical-align: middle;\n",
       "    }\n",
       "\n",
       "    .dataframe tbody tr th {\n",
       "        vertical-align: top;\n",
       "    }\n",
       "\n",
       "    .dataframe thead th {\n",
       "        text-align: right;\n",
       "    }\n",
       "</style>\n",
       "<table border=\"1\" class=\"dataframe\">\n",
       "  <thead>\n",
       "    <tr style=\"text-align: right;\">\n",
       "      <th></th>\n",
       "      <th>Dia</th>\n",
       "      <th>Mês</th>\n",
       "      <th>Ano</th>\n",
       "    </tr>\n",
       "  </thead>\n",
       "  <tbody>\n",
       "    <tr>\n",
       "      <th>0</th>\n",
       "      <td>15</td>\n",
       "      <td>5</td>\n",
       "      <td>2004</td>\n",
       "    </tr>\n",
       "    <tr>\n",
       "      <th>1</th>\n",
       "      <td>15</td>\n",
       "      <td>5</td>\n",
       "      <td>2004</td>\n",
       "    </tr>\n",
       "    <tr>\n",
       "      <th>2</th>\n",
       "      <td>15</td>\n",
       "      <td>5</td>\n",
       "      <td>2004</td>\n",
       "    </tr>\n",
       "  </tbody>\n",
       "</table>\n",
       "</div>"
      ],
      "text/plain": [
       "   Dia  Mês   Ano\n",
       "0   15    5  2004\n",
       "1   15    5  2004\n",
       "2   15    5  2004"
      ]
     },
     "execution_count": 8,
     "metadata": {},
     "output_type": "execute_result"
    }
   ],
   "source": [
    "# Usando a biblioteca Datetime\n",
    "df['Dia'] = df['DATA FINAL'].dt.day\n",
    "df['Mês'] = df['DATA FINAL'].dt.month\n",
    "df['Ano'] = df['DATA FINAL'].dt.year\n",
    "\n",
    "df.iloc[0:3, -3:]"
   ]
  },
  {
   "cell_type": "markdown",
   "id": "7d25e880-b153-4cce-8268-8388c3de52a3",
   "metadata": {},
   "source": [
    "### 6. Utilizando o value_counts(), liste todos os tipos de produtos contidos na base de dados."
   ]
  },
  {
   "cell_type": "code",
   "execution_count": 9,
   "id": "f953fa16-59bd-40d9-90c0-af138acb4191",
   "metadata": {},
   "outputs": [
    {
     "name": "stdout",
     "output_type": "stream",
     "text": [
      "<class 'pandas.core.series.Series'>\n",
      "PRODUTO\n",
      "GASOLINA COMUM        23570\n",
      "GLP                   23561\n",
      "ETANOL HIDRATADO      23440\n",
      "ÓLEO DIESEL           21194\n",
      "GNV                   14469\n",
      "ÓLEO DIESEL S10        9113\n",
      "OLEO DIESEL S10        2376\n",
      "OLEO DIESEL            2351\n",
      "GASOLINA ADITIVADA      749\n",
      "Name: count, dtype: int64\n"
     ]
    },
    {
     "data": {
      "text/plain": [
       "PRODUTO\n",
       "GASOLINA COMUM        19.51\n",
       "GLP                   19.50\n",
       "ETANOL HIDRATADO      19.40\n",
       "ÓLEO DIESEL           17.54\n",
       "GNV                   11.98\n",
       "ÓLEO DIESEL S10        7.54\n",
       "OLEO DIESEL S10        1.97\n",
       "OLEO DIESEL            1.95\n",
       "GASOLINA ADITIVADA     0.62\n",
       "Name: count, dtype: float64"
      ]
     },
     "execution_count": 9,
     "metadata": {},
     "output_type": "execute_result"
    }
   ],
   "source": [
    "print(type(df['PRODUTO'].value_counts()))\n",
    "\n",
    "print(df['PRODUTO'].value_counts())\n",
    "\n",
    "# Fazendo operação básicas com uma Serie\n",
    "((df['PRODUTO'].value_counts() / df['PRODUTO'].value_counts().sum()) * 100).round(2)"
   ]
  },
  {
   "cell_type": "markdown",
   "id": "fab0300f-7c49-48be-b95a-948601713229",
   "metadata": {},
   "source": [
    "### 7. Filtre o DataFrame para obter apenas dados da 'GASOLINA COMUM'. Grave em uma nova variável."
   ]
  },
  {
   "cell_type": "code",
   "execution_count": 10,
   "id": "6f1a53ad-2f8e-48b3-b1f3-05698caec5a7",
   "metadata": {},
   "outputs": [
    {
     "name": "stdout",
     "output_type": "stream",
     "text": [
      "0         False\n",
      "1         False\n",
      "2         False\n",
      "3         False\n",
      "4         False\n",
      "          ...  \n",
      "120818    False\n",
      "120819    False\n",
      "120820    False\n",
      "120821    False\n",
      "120822    False\n",
      "Name: PRODUTO, Length: 120823, dtype: bool\n"
     ]
    },
    {
     "data": {
      "text/html": [
       "<div>\n",
       "<style scoped>\n",
       "    .dataframe tbody tr th:only-of-type {\n",
       "        vertical-align: middle;\n",
       "    }\n",
       "\n",
       "    .dataframe tbody tr th {\n",
       "        vertical-align: top;\n",
       "    }\n",
       "\n",
       "    .dataframe thead th {\n",
       "        text-align: right;\n",
       "    }\n",
       "</style>\n",
       "<table border=\"1\" class=\"dataframe\">\n",
       "  <thead>\n",
       "    <tr style=\"text-align: right;\">\n",
       "      <th></th>\n",
       "      <th>DATA INICIAL</th>\n",
       "      <th>DATA FINAL</th>\n",
       "      <th>REGIÃO</th>\n",
       "      <th>ESTADO</th>\n",
       "      <th>PRODUTO</th>\n",
       "      <th>NÚMERO DE POSTOS PESQUISADOS</th>\n",
       "      <th>UNIDADE DE MEDIDA</th>\n",
       "      <th>PREÇO MÉDIO REVENDA</th>\n",
       "      <th>DESVIO PADRÃO REVENDA</th>\n",
       "      <th>PREÇO MÍNIMO REVENDA</th>\n",
       "      <th>...</th>\n",
       "      <th>MARGEM MÉDIA REVENDA</th>\n",
       "      <th>COEF DE VARIAÇÃO REVENDA</th>\n",
       "      <th>PREÇO MÉDIO DISTRIBUIÇÃO</th>\n",
       "      <th>DESVIO PADRÃO DISTRIBUIÇÃO</th>\n",
       "      <th>PREÇO MÍNIMO DISTRIBUIÇÃO</th>\n",
       "      <th>PREÇO MÁXIMO DISTRIBUIÇÃO</th>\n",
       "      <th>COEF DE VARIAÇÃO DISTRIBUIÇÃO</th>\n",
       "      <th>Dia</th>\n",
       "      <th>Mês</th>\n",
       "      <th>Ano</th>\n",
       "    </tr>\n",
       "  </thead>\n",
       "  <tbody>\n",
       "    <tr>\n",
       "      <th>9256</th>\n",
       "      <td>2004-05-09</td>\n",
       "      <td>2004-05-15</td>\n",
       "      <td>CENTRO OESTE</td>\n",
       "      <td>DISTRITO FEDERAL</td>\n",
       "      <td>GASOLINA COMUM</td>\n",
       "      <td>128</td>\n",
       "      <td>R$/l</td>\n",
       "      <td>2.029</td>\n",
       "      <td>0.007</td>\n",
       "      <td>1.99</td>\n",
       "      <td>...</td>\n",
       "      <td>0.318</td>\n",
       "      <td>0.003</td>\n",
       "      <td>1.711</td>\n",
       "      <td>0.02</td>\n",
       "      <td>1.651</td>\n",
       "      <td>1.7427</td>\n",
       "      <td>0.012</td>\n",
       "      <td>15</td>\n",
       "      <td>5</td>\n",
       "      <td>2004</td>\n",
       "    </tr>\n",
       "    <tr>\n",
       "      <th>9257</th>\n",
       "      <td>2004-05-09</td>\n",
       "      <td>2004-05-15</td>\n",
       "      <td>CENTRO OESTE</td>\n",
       "      <td>GOIAS</td>\n",
       "      <td>GASOLINA COMUM</td>\n",
       "      <td>395</td>\n",
       "      <td>R$/l</td>\n",
       "      <td>2.025</td>\n",
       "      <td>0.062</td>\n",
       "      <td>1.85</td>\n",
       "      <td>...</td>\n",
       "      <td>0.296</td>\n",
       "      <td>0.031</td>\n",
       "      <td>1.729</td>\n",
       "      <td>0.036</td>\n",
       "      <td>1.6643</td>\n",
       "      <td>1.915</td>\n",
       "      <td>0.021</td>\n",
       "      <td>15</td>\n",
       "      <td>5</td>\n",
       "      <td>2004</td>\n",
       "    </tr>\n",
       "    <tr>\n",
       "      <th>9258</th>\n",
       "      <td>2004-05-09</td>\n",
       "      <td>2004-05-15</td>\n",
       "      <td>CENTRO OESTE</td>\n",
       "      <td>MATO GROSSO</td>\n",
       "      <td>GASOLINA COMUM</td>\n",
       "      <td>194</td>\n",
       "      <td>R$/l</td>\n",
       "      <td>2.358</td>\n",
       "      <td>0.066</td>\n",
       "      <td>2.00</td>\n",
       "      <td>...</td>\n",
       "      <td>0.472</td>\n",
       "      <td>0.028</td>\n",
       "      <td>1.886</td>\n",
       "      <td>0.068</td>\n",
       "      <td>1.75</td>\n",
       "      <td>2.0713</td>\n",
       "      <td>0.036</td>\n",
       "      <td>15</td>\n",
       "      <td>5</td>\n",
       "      <td>2004</td>\n",
       "    </tr>\n",
       "  </tbody>\n",
       "</table>\n",
       "<p>3 rows × 21 columns</p>\n",
       "</div>"
      ],
      "text/plain": [
       "     DATA INICIAL DATA FINAL        REGIÃO            ESTADO         PRODUTO  \\\n",
       "9256   2004-05-09 2004-05-15  CENTRO OESTE  DISTRITO FEDERAL  GASOLINA COMUM   \n",
       "9257   2004-05-09 2004-05-15  CENTRO OESTE             GOIAS  GASOLINA COMUM   \n",
       "9258   2004-05-09 2004-05-15  CENTRO OESTE       MATO GROSSO  GASOLINA COMUM   \n",
       "\n",
       "      NÚMERO DE POSTOS PESQUISADOS UNIDADE DE MEDIDA  PREÇO MÉDIO REVENDA  \\\n",
       "9256                           128              R$/l                2.029   \n",
       "9257                           395              R$/l                2.025   \n",
       "9258                           194              R$/l                2.358   \n",
       "\n",
       "      DESVIO PADRÃO REVENDA  PREÇO MÍNIMO REVENDA  ...  MARGEM MÉDIA REVENDA  \\\n",
       "9256                  0.007                  1.99  ...                 0.318   \n",
       "9257                  0.062                  1.85  ...                 0.296   \n",
       "9258                  0.066                  2.00  ...                 0.472   \n",
       "\n",
       "     COEF DE VARIAÇÃO REVENDA  PREÇO MÉDIO DISTRIBUIÇÃO  \\\n",
       "9256                    0.003                     1.711   \n",
       "9257                    0.031                     1.729   \n",
       "9258                    0.028                     1.886   \n",
       "\n",
       "     DESVIO PADRÃO DISTRIBUIÇÃO PREÇO MÍNIMO DISTRIBUIÇÃO  \\\n",
       "9256                       0.02                     1.651   \n",
       "9257                      0.036                    1.6643   \n",
       "9258                      0.068                      1.75   \n",
       "\n",
       "     PREÇO MÁXIMO DISTRIBUIÇÃO COEF DE VARIAÇÃO DISTRIBUIÇÃO Dia  Mês   Ano  \n",
       "9256                    1.7427                         0.012  15    5  2004  \n",
       "9257                     1.915                         0.021  15    5  2004  \n",
       "9258                    2.0713                         0.036  15    5  2004  \n",
       "\n",
       "[3 rows x 21 columns]"
      ]
     },
     "execution_count": 10,
     "metadata": {},
     "output_type": "execute_result"
    }
   ],
   "source": [
    "linhas_gasolina = df['PRODUTO'] == 'GASOLINA COMUM'\n",
    "print(linhas_gasolina)\n",
    "\n",
    "df_gas = df.loc[linhas_gasolina]\n",
    "df_gas .head(3)"
   ]
  },
  {
   "cell_type": "markdown",
   "id": "fb031b0b-51e7-43d7-b2cb-10da05019a73",
   "metadata": {},
   "source": [
    "### 8. Qual o preço médio de revenda da gasolina em agosto de 2008?"
   ]
  },
  {
   "cell_type": "code",
   "execution_count": 11,
   "id": "3ba34e10-cc51-4b04-b67a-4245248907ed",
   "metadata": {},
   "outputs": [
    {
     "name": "stdout",
     "output_type": "stream",
     "text": [
      "PRODUTO           Ano \n",
      "ETANOL HIDRATADO  2004    1.521847\n",
      "                  2005    1.701161\n",
      "                  2006    1.970608\n",
      "                  2007    1.752209\n",
      "                  2008    1.771463\n",
      "                            ...   \n",
      "ÓLEO DIESEL S10   2015    3.035975\n",
      "                  2016    3.252379\n",
      "                  2017    3.329472\n",
      "                  2018    3.686585\n",
      "                  2019    3.749939\n",
      "Name: PREÇO MÉDIO REVENDA, Length: 103, dtype: float64\n"
     ]
    },
    {
     "data": {
      "text/plain": [
       "2.6046061253561255"
      ]
     },
     "execution_count": 11,
     "metadata": {},
     "output_type": "execute_result"
    }
   ],
   "source": [
    "# Usando o Groupby ao invés de df_gas para aprender\n",
    "\n",
    "group1 = df.groupby(['PRODUTO', 'Ano'])['PREÇO MÉDIO REVENDA'].mean()\n",
    "\n",
    "print(group1)\n",
    "\n",
    "group1.loc['GASOLINA COMUM'][[2008]].item()"
   ]
  },
  {
   "cell_type": "markdown",
   "id": "a57428cc-e9e6-48f8-a7f7-27fb9c87bcde",
   "metadata": {},
   "source": [
    "### 9. Qual o preço médio de revenda da gasolina em maio de 2014 em São Paulo?"
   ]
  },
  {
   "cell_type": "code",
   "execution_count": 12,
   "id": "e981678b-85db-499a-8466-e24c455ea20c",
   "metadata": {},
   "outputs": [
    {
     "name": "stdout",
     "output_type": "stream",
     "text": [
      "PRODUTO           Ano   ESTADO        \n",
      "ETANOL HIDRATADO  2004  ACRE              1.898515\n",
      "                        ALAGOAS           1.414788\n",
      "                        AMAPA             1.886606\n",
      "                        AMAZONAS          1.631879\n",
      "                        BAHIA             1.569061\n",
      "                                            ...   \n",
      "ÓLEO DIESEL S10   2019  RORAIMA           3.651500\n",
      "                        SANTA CATARINA    3.522038\n",
      "                        SAO PAULO         3.544038\n",
      "                        SERGIPE           3.690269\n",
      "                        TOCANTINS         3.580615\n",
      "Name: PREÇO MÉDIO REVENDA, Length: 2658, dtype: float64\n",
      "----\n",
      "\n",
      "ESTADO\n",
      "ACRE                   3.405808\n",
      "ALAGOAS                3.000212\n",
      "AMAPA                  2.962462\n",
      "AMAZONAS               3.159596\n",
      "BAHIA                  3.016077\n",
      "CEARA                  2.990808\n",
      "DISTRITO FEDERAL       3.122808\n",
      "ESPIRITO SANTO         3.000923\n",
      "GOIAS                  3.098385\n",
      "MARANHAO               2.985750\n",
      "MATO GROSSO            3.109173\n",
      "MATO GROSSO DO SUL     3.076308\n",
      "MINAS GERAIS           2.975808\n",
      "PARA                   3.118058\n",
      "PARAIBA                2.858519\n",
      "PARANA                 2.952404\n",
      "PERNAMBUCO             2.935173\n",
      "PIAUI                  2.825673\n",
      "RIO DE JANEIRO         3.132115\n",
      "RIO GRANDE DO NORTE    3.025192\n",
      "RIO GRANDE DO SUL      2.960923\n",
      "RONDONIA               3.204481\n",
      "RORAIMA                3.094885\n",
      "SANTA CATARINA         2.956981\n",
      "SAO PAULO              2.865250\n",
      "SERGIPE                2.935269\n",
      "TOCANTINS              3.119519\n",
      "Name: PREÇO MÉDIO REVENDA, dtype: float64\n",
      "----\n",
      "\n"
     ]
    },
    {
     "data": {
      "text/plain": [
       "2.86525"
      ]
     },
     "execution_count": 12,
     "metadata": {},
     "output_type": "execute_result"
    }
   ],
   "source": [
    "group2 = df.groupby(['PRODUTO', 'Ano', 'ESTADO'])['PREÇO MÉDIO REVENDA'].mean()\n",
    "print(group2)\n",
    "print('----\\n')\n",
    "\n",
    "\n",
    "print(group2.xs(('GASOLINA COMUM', 2014)))\n",
    "print('----\\n')\n",
    "\n",
    "group2.xs(('GASOLINA COMUM', 2014, 'SAO PAULO')).item()"
   ]
  },
  {
   "cell_type": "markdown",
   "id": "6ab2edd0-8bf7-49d7-b3e8-5535ec4a58cf",
   "metadata": {},
   "source": [
    "### 10. Você conseguiria descobrir em qual(quais) estado(s) a gasolina ultrapassou a barreira dos R$ 5,00? E quando isso ocorreu?"
   ]
  },
  {
   "cell_type": "code",
   "execution_count": 13,
   "id": "32a9045a-899c-4775-8b66-c0490f3e62a7",
   "metadata": {},
   "outputs": [
    {
     "data": {
      "text/plain": [
       "ESTADO          Ano \n",
       "ACRE            2021    82\n",
       "                2018    80\n",
       "RIO DE JANEIRO  2018    62\n",
       "ACRE            2019    61\n",
       "                2020    59\n",
       "                        ..\n",
       "AMAPA           2004    33\n",
       "SERGIPE         2004    33\n",
       "ALAGOAS         2004    33\n",
       "ACRE            2004    33\n",
       "AMAPA           2021    21\n",
       "Name: count, Length: 486, dtype: int64"
      ]
     },
     "execution_count": 13,
     "metadata": {},
     "output_type": "execute_result"
    }
   ],
   "source": [
    "df[df['PREÇO MÉDIO REVENDA'] > 5].value_counts(subset=['ESTADO', 'Ano'])"
   ]
  },
  {
   "cell_type": "code",
   "execution_count": 14,
   "id": "d4296b58",
   "metadata": {},
   "outputs": [
    {
     "data": {
      "text/plain": [
       "ESTADO\n",
       "ACRE                   14.314446\n",
       "AMAPA                  14.262162\n",
       "RORAIMA                13.989412\n",
       "TOCANTINS              13.973487\n",
       "MATO GROSSO            13.598674\n",
       "RONDONIA               13.551935\n",
       "PARA                   13.022828\n",
       "DISTRITO FEDERAL       12.747411\n",
       "MARANHAO               12.571495\n",
       "PIAUI                  12.369888\n",
       "GOIAS                  11.967700\n",
       "MATO GROSSO DO SUL     11.492464\n",
       "AMAZONAS               11.070416\n",
       "CEARA                  10.863314\n",
       "MINAS GERAIS           10.760187\n",
       "SANTA CATARINA         10.691555\n",
       "RIO GRANDE DO SUL      10.599684\n",
       "SERGIPE                10.433733\n",
       "RIO GRANDE DO NORTE    10.406287\n",
       "PARANA                 10.394643\n",
       "ALAGOAS                10.130299\n",
       "ESPIRITO SANTO         10.059009\n",
       "PARAIBA                10.046416\n",
       "SAO PAULO              10.031501\n",
       "RIO DE JANEIRO         10.018357\n",
       "BAHIA                   9.898628\n",
       "PERNAMBUCO              9.866559\n",
       "Name: PREÇO MÉDIO REVENDA, dtype: float64"
      ]
     },
     "execution_count": 14,
     "metadata": {},
     "output_type": "execute_result"
    }
   ],
   "source": [
    "media = df.groupby('ESTADO')['PREÇO MÉDIO REVENDA'].mean()\n",
    "media_acima_5 = media[media > 5]\n",
    "media_acima_5.sort_values(ascending=False)"
   ]
  },
  {
   "cell_type": "markdown",
   "id": "80f4c3a6-ba0e-43b0-a328-91c0aa04348c",
   "metadata": {},
   "source": [
    "### 11. Qual a média de preço dos estados da região sul em 2012?"
   ]
  },
  {
   "cell_type": "code",
   "execution_count": 15,
   "id": "e6bbbe89-3dc9-4264-ba31-2ce5aa76054b",
   "metadata": {},
   "outputs": [
    {
     "name": "stdout",
     "output_type": "stream",
     "text": [
      "REGIÃO        Ano \n",
      "CENTRO OESTE  2004     9.294357\n",
      "              2005     9.316561\n",
      "              2006     9.786558\n",
      "              2007     9.803874\n",
      "              2008     9.914386\n",
      "                        ...    \n",
      "SUL           2017    12.436839\n",
      "              2018    14.297836\n",
      "              2019    14.654227\n",
      "              2020    14.576190\n",
      "              2021    15.478370\n",
      "Name: PREÇO MÉDIO REVENDA, Length: 90, dtype: float64\n"
     ]
    },
    {
     "data": {
      "text/plain": [
       "9.842052564102564"
      ]
     },
     "execution_count": 15,
     "metadata": {},
     "output_type": "execute_result"
    }
   ],
   "source": [
    "group = df.groupby(['REGIÃO','Ano'])['PREÇO MÉDIO REVENDA'].mean()\n",
    "print(group)\n",
    "\n",
    "group.xs(('SUL',2012)).item()"
   ]
  },
  {
   "cell_type": "markdown",
   "id": "28781cbf-0dba-4512-83df-87537e548c63",
   "metadata": {},
   "source": [
    "### 12. Você conseguiria obter uma tabela contendo a variação percentual ano a ano para o estado do Rio de Janeiro?"
   ]
  },
  {
   "cell_type": "code",
   "execution_count": 16,
   "id": "09d2d505-127b-47ff-8fe5-0c6170da3900",
   "metadata": {},
   "outputs": [
    {
     "name": "stdout",
     "output_type": "stream",
     "text": [
      "Ano\n",
      "2004    7.062455\n",
      "2005    7.204067\n",
      "2006    7.690235\n",
      "2007    7.830504\n",
      "Name: PREÇO MÉDIO REVENDA, dtype: float64\n",
      "Ano\n",
      "2004         NaN\n",
      "2005    7.062455\n",
      "2006    7.204067\n",
      "2007    7.690235\n",
      "Name: PREÇO MÉDIO REVENDA, dtype: float64\n"
     ]
    },
    {
     "data": {
      "text/plain": [
       "Ano\n",
       "2004     NaN\n",
       "2005    2.01\n",
       "2006    6.75\n",
       "2007    1.82\n",
       "Name: PREÇO MÉDIO REVENDA, dtype: float64"
      ]
     },
     "execution_count": 16,
     "metadata": {},
     "output_type": "execute_result"
    }
   ],
   "source": [
    "group = df.groupby(['ESTADO', 'Ano'])['PREÇO MÉDIO REVENDA'].mean()\n",
    "group\n",
    "\n",
    "rio_ano = group.xs('RIO DE JANEIRO')\n",
    "\n",
    "print(rio_ano.head(4))\n",
    "print(rio_ano.shift(1).head(4)) # .shift(1) Joga o dados uma linha para baixo\n",
    "\n",
    "variacao = (((rio_ano/rio_ano.shift(1))-1)*100).round(2)\n",
    "variacao.head(4)\n"
   ]
  },
  {
   "cell_type": "markdown",
   "id": "d5e51a54-13f7-4f62-9903-235ac6256b38",
   "metadata": {},
   "source": [
    "### DESAFIO: Crie uma tabela contendo uma serie temporal com a diferença absoluta e percentual entre os valores mais baratos e caros. Apresente também ao lado os estados na qual os maiores e menores preços foram registrados."
   ]
  },
  {
   "cell_type": "code",
   "execution_count": null,
   "id": "82b2263c-99d4-47ac-a7ea-ae5f1057d71f",
   "metadata": {},
   "outputs": [],
   "source": [
    "# Ordena o DF\n",
    "df_sorted = df.sort_values(['DATA FINAL', 'PREÇO MÉDIO REVENDA'])\n",
    "\n",
    "# Maior e menor preço por date \n",
    "preco_max = df_sorted.loc[df_sorted.groupby('DATA FINAL')['PREÇO MÉDIO REVENDA'].idxmax()]\n",
    "preco_min = df_sorted.loc[df_sorted.groupby('DATA FINAL')['PREÇO MÉDIO REVENDA'].idxmin()]\n",
    "\n",
    "# DF\n",
    "resultado = pd.DataFrame({\n",
    "    'preco_max': preco_max.set_index('DATA FINAL')['PREÇO MÉDIO REVENDA'],\n",
    "    'estado_max': preco_max.set_index('DATA FINAL')['ESTADO'],\n",
    "    'preco_min': preco_min.set_index('DATA FINAL')['PREÇO MÉDIO REVENDA'],\n",
    "    'estado_min': preco_min.set_index('DATA FINAL')['ESTADO'],\n",
    "})\n",
    "\n",
    "# Diferença entre o valor máximo e mínimo\n",
    "resultado['var_absoluta'] = resultado['preco_max'] - resultado['preco_min']\n",
    "resultado['var_%'] = resultado['preco_max']/resultado['preco_min']\n",
    "\n",
    "resultado\n"
   ]
  },
  {
   "cell_type": "code",
   "execution_count": null,
   "id": "45feab9f",
   "metadata": {},
   "outputs": [
    {
     "data": {
      "text/html": [
       "<div>\n",
       "<style scoped>\n",
       "    .dataframe tbody tr th:only-of-type {\n",
       "        vertical-align: middle;\n",
       "    }\n",
       "\n",
       "    .dataframe tbody tr th {\n",
       "        vertical-align: top;\n",
       "    }\n",
       "\n",
       "    .dataframe thead th {\n",
       "        text-align: right;\n",
       "    }\n",
       "</style>\n",
       "<table border=\"1\" class=\"dataframe\">\n",
       "  <thead>\n",
       "    <tr style=\"text-align: right;\">\n",
       "      <th></th>\n",
       "      <th>preco_max</th>\n",
       "      <th>estado_max</th>\n",
       "      <th>preco_min</th>\n",
       "      <th>estado_min</th>\n",
       "      <th>var_absoluta</th>\n",
       "      <th>var_%</th>\n",
       "    </tr>\n",
       "    <tr>\n",
       "      <th>DATA FINAL</th>\n",
       "      <th></th>\n",
       "      <th></th>\n",
       "      <th></th>\n",
       "      <th></th>\n",
       "      <th></th>\n",
       "      <th></th>\n",
       "    </tr>\n",
       "  </thead>\n",
       "  <tbody>\n",
       "    <tr>\n",
       "      <th>2004-05-15</th>\n",
       "      <td>39.328</td>\n",
       "      <td>ACRE</td>\n",
       "      <td>0.768</td>\n",
       "      <td>SAO PAULO</td>\n",
       "      <td>38.560</td>\n",
       "      <td>51.208333</td>\n",
       "    </tr>\n",
       "    <tr>\n",
       "      <th>2004-05-22</th>\n",
       "      <td>39.117</td>\n",
       "      <td>ACRE</td>\n",
       "      <td>0.766</td>\n",
       "      <td>SAO PAULO</td>\n",
       "      <td>38.351</td>\n",
       "      <td>51.066580</td>\n",
       "    </tr>\n",
       "    <tr>\n",
       "      <th>2004-05-29</th>\n",
       "      <td>38.971</td>\n",
       "      <td>ACRE</td>\n",
       "      <td>0.823</td>\n",
       "      <td>SAO PAULO</td>\n",
       "      <td>38.148</td>\n",
       "      <td>47.352369</td>\n",
       "    </tr>\n",
       "    <tr>\n",
       "      <th>2004-06-05</th>\n",
       "      <td>39.046</td>\n",
       "      <td>ACRE</td>\n",
       "      <td>0.887</td>\n",
       "      <td>SAO PAULO</td>\n",
       "      <td>38.159</td>\n",
       "      <td>44.020293</td>\n",
       "    </tr>\n",
       "    <tr>\n",
       "      <th>2004-06-12</th>\n",
       "      <td>39.013</td>\n",
       "      <td>ACRE</td>\n",
       "      <td>0.894</td>\n",
       "      <td>SAO PAULO</td>\n",
       "      <td>38.119</td>\n",
       "      <td>43.638702</td>\n",
       "    </tr>\n",
       "    <tr>\n",
       "      <th>...</th>\n",
       "      <td>...</td>\n",
       "      <td>...</td>\n",
       "      <td>...</td>\n",
       "      <td>...</td>\n",
       "      <td>...</td>\n",
       "      <td>...</td>\n",
       "    </tr>\n",
       "    <tr>\n",
       "      <th>2021-04-03</th>\n",
       "      <td>103.443</td>\n",
       "      <td>MATO GROSSO</td>\n",
       "      <td>2.824</td>\n",
       "      <td>MATO GROSSO</td>\n",
       "      <td>100.619</td>\n",
       "      <td>36.629958</td>\n",
       "    </tr>\n",
       "    <tr>\n",
       "      <th>2021-04-10</th>\n",
       "      <td>105.194</td>\n",
       "      <td>MATO GROSSO</td>\n",
       "      <td>2.824</td>\n",
       "      <td>MATO GROSSO</td>\n",
       "      <td>102.370</td>\n",
       "      <td>37.250000</td>\n",
       "    </tr>\n",
       "    <tr>\n",
       "      <th>2021-04-17</th>\n",
       "      <td>103.497</td>\n",
       "      <td>MATO GROSSO</td>\n",
       "      <td>2.824</td>\n",
       "      <td>MATO GROSSO</td>\n",
       "      <td>100.673</td>\n",
       "      <td>36.649079</td>\n",
       "    </tr>\n",
       "    <tr>\n",
       "      <th>2021-04-24</th>\n",
       "      <td>105.096</td>\n",
       "      <td>MATO GROSSO</td>\n",
       "      <td>2.824</td>\n",
       "      <td>MATO GROSSO</td>\n",
       "      <td>102.272</td>\n",
       "      <td>37.215297</td>\n",
       "    </tr>\n",
       "    <tr>\n",
       "      <th>2021-05-01</th>\n",
       "      <td>103.915</td>\n",
       "      <td>MATO GROSSO</td>\n",
       "      <td>2.824</td>\n",
       "      <td>MATO GROSSO</td>\n",
       "      <td>101.091</td>\n",
       "      <td>36.797096</td>\n",
       "    </tr>\n",
       "  </tbody>\n",
       "</table>\n",
       "<p>873 rows × 6 columns</p>\n",
       "</div>"
      ],
      "text/plain": [
       "            preco_max   estado_max  preco_min   estado_min  var_absoluta  \\\n",
       "DATA FINAL                                                                 \n",
       "2004-05-15     39.328         ACRE      0.768    SAO PAULO        38.560   \n",
       "2004-05-22     39.117         ACRE      0.766    SAO PAULO        38.351   \n",
       "2004-05-29     38.971         ACRE      0.823    SAO PAULO        38.148   \n",
       "2004-06-05     39.046         ACRE      0.887    SAO PAULO        38.159   \n",
       "2004-06-12     39.013         ACRE      0.894    SAO PAULO        38.119   \n",
       "...               ...          ...        ...          ...           ...   \n",
       "2021-04-03    103.443  MATO GROSSO      2.824  MATO GROSSO       100.619   \n",
       "2021-04-10    105.194  MATO GROSSO      2.824  MATO GROSSO       102.370   \n",
       "2021-04-17    103.497  MATO GROSSO      2.824  MATO GROSSO       100.673   \n",
       "2021-04-24    105.096  MATO GROSSO      2.824  MATO GROSSO       102.272   \n",
       "2021-05-01    103.915  MATO GROSSO      2.824  MATO GROSSO       101.091   \n",
       "\n",
       "                var_%  \n",
       "DATA FINAL             \n",
       "2004-05-15  51.208333  \n",
       "2004-05-22  51.066580  \n",
       "2004-05-29  47.352369  \n",
       "2004-06-05  44.020293  \n",
       "2004-06-12  43.638702  \n",
       "...               ...  \n",
       "2021-04-03  36.629958  \n",
       "2021-04-10  37.250000  \n",
       "2021-04-17  36.649079  \n",
       "2021-04-24  37.215297  \n",
       "2021-05-01  36.797096  \n",
       "\n",
       "[873 rows x 6 columns]"
      ]
     },
     "execution_count": 29,
     "metadata": {},
     "output_type": "execute_result"
    }
   ],
   "source": []
  }
 ],
 "metadata": {
  "kernelspec": {
   "display_name": ".venv",
   "language": "python",
   "name": "python3"
  },
  "language_info": {
   "codemirror_mode": {
    "name": "ipython",
    "version": 3
   },
   "file_extension": ".py",
   "mimetype": "text/x-python",
   "name": "python",
   "nbconvert_exporter": "python",
   "pygments_lexer": "ipython3",
   "version": "3.12.3"
  }
 },
 "nbformat": 4,
 "nbformat_minor": 5
}
